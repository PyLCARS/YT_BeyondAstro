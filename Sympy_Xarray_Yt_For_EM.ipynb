{
 "cells": [
  {
   "cell_type": "markdown",
   "metadata": {},
   "source": [
    "# References:\n",
    "\n",
    "@book{bhooshan_2012,\n",
    "place={New Delhi, India},\n",
    "edition={1},\n",
    "title={Fundamentals of engineering electromagnetics},\n",
    "publisher={Oxford University Press},\n",
    "author={Bhooshan, Sunil},\n",
    "year={2012},\n",
    "pages={269-272}\n",
    "}"
   ]
  },
  {
   "cell_type": "code",
   "execution_count": 1,
   "metadata": {},
   "outputs": [],
   "source": [
    "from sympy import *\n",
    "init_printing()\n",
    "\n",
    "import numpy as np\n",
    "\n",
    "import xarray as xr\n",
    "import itertools as Iter\n",
    "\n",
    "import scipy.constants as consts"
   ]
  },
  {
   "cell_type": "markdown",
   "metadata": {},
   "source": [
    "# The Static Field Prelude"
   ]
  },
  {
   "cell_type": "markdown",
   "metadata": {},
   "source": [
    "## Theory "
   ]
  },
  {
   "cell_type": "code",
   "execution_count": 2,
   "metadata": {},
   "outputs": [],
   "source": [
    "x, y, z=symbols('x, y, z')\n",
    "xDirVec=Matrix([1, 0, 0]); yDirVec=Matrix([0, 1, 0]); zDirVec=Matrix([0, 0, 1])"
   ]
  },
  {
   "cell_type": "code",
   "execution_count": 3,
   "metadata": {},
   "outputs": [
    {
     "data": {
      "image/png": "[encoded data removed]",
      "text/latex": [
       "$$\\left \\{ \\epsilon_{0} : 8.854187817620389e-12\\right \\}$$"
      ],
      "text/plain": [
       "{ε₀: 8.854187817620389e-12}"
      ]
     },
     "execution_count": 3,
     "metadata": {},
     "output_type": "execute_result"
    }
   ],
   "source": [
    "DieElecConst=symbols('epsilon_0')\n",
    "sups_physical={DieElecConst:consts.epsilon_0}; sups_physical"
   ]
  },
  {
   "cell_type": "code",
   "execution_count": 4,
   "metadata": {},
   "outputs": [
    {
     "data": {
      "image/png": "[encoded data removed]",
      "text/latex": [
       "$$V{\\left (x,y,z \\right )}$$"
      ],
      "text/plain": [
       "V(x, y, z)"
      ]
     },
     "execution_count": 4,
     "metadata": {},
     "output_type": "execute_result"
    }
   ],
   "source": [
    "EPot=Function('V')(x, y, z); EPot"
   ]
  },
  {
   "cell_type": "code",
   "execution_count": 5,
   "metadata": {},
   "outputs": [
    {
     "data": {
      "image/png": "[encoded data removed]",
      "text/latex": [
       "$$\\left \\{ \\rho_{\\ell} : 1\\right \\}$$"
      ],
      "text/plain": [
       "{ρₑₗₗ: 1}"
      ]
     },
     "execution_count": 5,
     "metadata": {},
     "output_type": "execute_result"
    }
   ],
   "source": [
    "ChargeDen_line=symbols('rho_ell'); ChargeDen_line\n",
    "sups={ChargeDen_line:1}; sups"
   ]
  },
  {
   "cell_type": "code",
   "execution_count": 6,
   "metadata": {},
   "outputs": [
    {
     "data": {
      "image/png": "[encoded data removed]",
      "text/latex": [
       "$$V{\\left (x,y,z \\right )} = - \\frac{\\rho_{\\ell}}{2 \\pi \\epsilon_{0}} \\log{\\left (\\sqrt{x^{2} + y^{2}} \\right )}$$"
      ],
      "text/plain": [
       "                      ⎛   _________⎞ \n",
       "                      ⎜  ╱  2    2 ⎟ \n",
       "             -ρₑₗₗ⋅log⎝╲╱  x  + y  ⎠ \n",
       "V(x, y, z) = ────────────────────────\n",
       "                      2⋅π⋅ε₀         "
      ]
     },
     "execution_count": 6,
     "metadata": {},
     "output_type": "execute_result"
    }
   ],
   "source": [
    "EPotLine=Eq(EPot, -ChargeDen_line/(2*pi*DieElecConst) *ln(sqrt(y**2+x**2)))\n",
    "EPotLine"
   ]
  },
  {
   "cell_type": "code",
   "execution_count": 7,
   "metadata": {},
   "outputs": [
    {
     "data": {
      "image/png": "[encoded data removed]",
      "text/latex": [
       "$$A{\\left (x,y,z \\right )}$$"
      ],
      "text/plain": [
       "A(x, y, z)"
      ]
     },
     "execution_count": 7,
     "metadata": {},
     "output_type": "execute_result"
    }
   ],
   "source": [
    "MPot=Function('A')(x, y, z); MPot"
   ]
  },
  {
   "cell_type": "code",
   "execution_count": 8,
   "metadata": {},
   "outputs": [
    {
     "data": {
      "image/png": "[encoded data removed]",
      "text/latex": [
       "$$\\left \\{ \\epsilon_{0} : 8.854187817620389e-12, \\quad \\mu_{0} : 1.2566370614359173e-06\\right \\}$$"
      ],
      "text/plain": [
       "{ε₀: 8.854187817620389e-12, μ₀: 1.2566370614359173e-06}"
      ]
     },
     "execution_count": 8,
     "metadata": {},
     "output_type": "execute_result"
    }
   ],
   "source": [
    "MagConst=symbols('mu_0')\n",
    "sups_physical[MagConst]=consts.mu_0; sups_physical"
   ]
  },
  {
   "cell_type": "code",
   "execution_count": 9,
   "metadata": {},
   "outputs": [
    {
     "data": {
      "image/png": "[encoded data removed]",
      "text/latex": [
       "$$\\left \\{ I : 1, \\quad \\rho_{\\ell} : 1\\right \\}$$"
      ],
      "text/plain": [
       "{I: 1, ρₑₗₗ: 1}"
      ]
     },
     "execution_count": 9,
     "metadata": {},
     "output_type": "execute_result"
    }
   ],
   "source": [
    "Current=symbols('I')\n",
    "sups[Current]=1; sups"
   ]
  },
  {
   "cell_type": "code",
   "execution_count": 10,
   "metadata": {},
   "outputs": [
    {
     "data": {
      "text/latex": [
       "$$\\left[\\begin{matrix}0\\\\0\\\\- \\frac{I}{2 \\pi \\mu_{0}} \\log{\\left (\\sqrt{x^{2} + y^{2}} \\right )}\\end{matrix}\\right]$$"
      ],
      "text/plain": [
       "⎡          0          ⎤\n",
       "⎢                     ⎥\n",
       "⎢          0          ⎥\n",
       "⎢                     ⎥\n",
       "⎢      ⎛   _________⎞ ⎥\n",
       "⎢      ⎜  ╱  2    2 ⎟ ⎥\n",
       "⎢-I⋅log⎝╲╱  x  + y  ⎠ ⎥\n",
       "⎢─────────────────────⎥\n",
       "⎣        2⋅π⋅μ₀       ⎦"
      ]
     },
     "execution_count": 10,
     "metadata": {},
     "output_type": "execute_result"
    }
   ],
   "source": [
    "#MPotLine=Eq(MPot, -(Current*zDirVec)/(2*pi*MagConst) *ln(sqrt(y**2+x**2)))\n",
    "#@Sympy this above is what I want to do; below is what I had to do\n",
    "#yeah the Matrix Equation stuff needs some major improvments\n",
    "\n",
    "MPotLine= -(Current*zDirVec)/(2*pi*MagConst) *ln(sqrt(y**2+x**2))\n",
    "MPotLine"
   ]
  },
  {
   "cell_type": "markdown",
   "metadata": {},
   "source": [
    "## Numericalizing sympy "
   ]
  },
  {
   "cell_type": "code",
   "execution_count": 11,
   "metadata": {},
   "outputs": [
    {
     "data": {
      "text/plain": [
       "array([[     0.        ],\n",
       "       [     0.        ],\n",
       "       [-43894.05798293]])"
      ]
     },
     "execution_count": 11,
     "metadata": {},
     "output_type": "execute_result"
    }
   ],
   "source": [
    "MPotLineN=lambdify((x, y, z), MPotLine.subs({**sups_physical, **sups}), dummify=False)\n",
    "MPotLineN(1,1,1)"
   ]
  },
  {
   "cell_type": "code",
   "execution_count": 12,
   "metadata": {},
   "outputs": [
    {
     "data": {
      "image/png": "[encoded data removed]",
      "text/latex": [
       "$$-6229696181.55$$"
      ],
      "text/plain": [
       "-6229696181.55"
      ]
     },
     "execution_count": 12,
     "metadata": {},
     "output_type": "execute_result"
    }
   ],
   "source": [
    "EPotLineN=lambdify((x, y, z), EPotLine.rhs.subs({**sups_physical, **sups}), dummify=False)\n",
    "EPotLineN(1,1,1)"
   ]
  },
  {
   "cell_type": "markdown",
   "metadata": {},
   "source": [
    "## DataCube Loading"
   ]
  },
  {
   "cell_type": "markdown",
   "metadata": {},
   "source": [
    "Huge Thanks to [@shoyer](https://github.com/shoyer) & [@fmaussion](https://github.com/fmaussion) for helping me get the Numerical Sympy loaded into `xarray` (see [xarray issue] (https://github.com/pydata/xarray/issues/1773#issuecomment-350974418) )"
   ]
  },
  {
   "cell_type": "code",
   "execution_count": 13,
   "metadata": {},
   "outputs": [],
   "source": [
    "DomainSpaceSize=5\n",
    "SpaceDensity=500"
   ]
  },
  {
   "cell_type": "code",
   "execution_count": 14,
   "metadata": {},
   "outputs": [],
   "source": [
    "x_coord = np.linspace(-DomainSpaceSize, +DomainSpaceSize, SpaceDensity)\n",
    "y_coord = np.linspace(-DomainSpaceSize, +DomainSpaceSize, SpaceDensity)\n",
    "z_coord = np.linspace(-DomainSpaceSize, +DomainSpaceSize, SpaceDensity)"
   ]
  },
  {
   "cell_type": "code",
   "execution_count": 15,
   "metadata": {},
   "outputs": [],
   "source": [
    "SpaceOnlyCoorEnterFunc = lambda x, y, z: 1+ (0*x+0*y+0*z)"
   ]
  },
  {
   "cell_type": "code",
   "execution_count": 16,
   "metadata": {},
   "outputs": [
    {
     "data": {
      "text/plain": [
       "<xarray.Dataset>\n",
       "Dimensions:    (x: 500, y: 500, z: 500)\n",
       "Coordinates:\n",
       "  * x          (x) float64 -5.0 -4.98 -4.96 -4.94 -4.92 -4.9 -4.88 -4.86 ...\n",
       "  * y          (y) float64 -5.0 -4.98 -4.96 -4.94 -4.92 -4.9 -4.88 -4.86 ...\n",
       "  * z          (z) float64 -5.0 -4.98 -4.96 -4.94 -4.92 -4.9 -4.88 -4.86 ...\n",
       "Data variables:\n",
       "    CoorSpace  (x, y, z) float64 1.0 1.0 1.0 1.0 1.0 1.0 1.0 1.0 1.0 1.0 1.0 ..."
      ]
     },
     "execution_count": 16,
     "metadata": {},
     "output_type": "execute_result"
    }
   ],
   "source": [
    "StaticSimDataSet = xr.Dataset(\n",
    "    {'CoorSpace':(['x', 'y', 'z'], SpaceOnlyCoorEnterFunc(*np.meshgrid(x_coord, y_coord, z_coord)))},\n",
    "                  coords={'x':x_coord, 'y':y_coord, 'z':z_coord})\n",
    "StaticSimDataSet"
   ]
  },
  {
   "cell_type": "code",
   "execution_count": 17,
   "metadata": {},
   "outputs": [
    {
     "data": {
      "image/png": "[encoded data removed]",
      "text/latex": [
       "$$\\left ( 500, \\quad 500, \\quad 500\\right )$$"
      ],
      "text/plain": [
       "(500, 500, 500)"
      ]
     },
     "execution_count": 17,
     "metadata": {},
     "output_type": "execute_result"
    }
   ],
   "source": [
    "StaticMasterShape=StaticSimDataSet['CoorSpace'].shape; StaticMasterShape"
   ]
  },
  {
   "cell_type": "code",
   "execution_count": 18,
   "metadata": {},
   "outputs": [
    {
     "name": "stdout",
     "output_type": "stream",
     "text": [
      "xarray.Dataset {\n",
      "dimensions:\n",
      "\tx = 500 ;\n",
      "\ty = 500 ;\n",
      "\tz = 500 ;\n",
      "\n",
      "variables:\n",
      "\tfloat64 CoorSpace(x, y, z) ;\n",
      "\tfloat64 x(x) ;\n",
      "\tfloat64 y(y) ;\n",
      "\tfloat64 z(z) ;\n",
      "\tfloat64 EPot(x, y, z) ;\n",
      "\n",
      "// global attributes:\n",
      "}"
     ]
    }
   ],
   "source": [
    "StaticSimDataSet['EPot']=(['x', 'y', 'z'], EPotLineN(*np.meshgrid(x_coord, y_coord, z_coord)))\n",
    "StaticSimDataSet.info()"
   ]
  },
  {
   "cell_type": "markdown",
   "metadata": {},
   "source": [
    "Worked on getting the vector into xarray since lambdfy's output is not broadcasting well at all; However ever the below soltion does not scale will need to redo"
   ]
  },
  {
   "cell_type": "raw",
   "metadata": {},
   "source": [
    "#Dummy to Setup memeory, fill with true values in next step\n",
    "StaticSimDataSet['HPot']=(['x', 'y', 'z'], np.zeros(StaticMasterShape, dtype=object))\n",
    "StaticSimDataSet.info()"
   ]
  },
  {
   "cell_type": "raw",
   "metadata": {},
   "source": [
    "#Filling in Dummys\n",
    "for i in Iter.product(*StaticSimDataSet.indexes.values(), repeat=1):\n",
    "    #print(i, vector_funcN(*i))\n",
    "    StaticSimDataSet['HPot'].loc[dict(x=i[0], y=i[1], z=i[2])]=MPotLineN(*i)\n",
    "StaticSimDataSet['HPot']\n"
   ]
  },
  {
   "cell_type": "code",
   "execution_count": null,
   "metadata": {},
   "outputs": [],
   "source": []
  }
 ],
 "metadata": {
  "kernelspec": {
   "display_name": "Python 3",
   "language": "python",
   "name": "python3"
  },
  "language_info": {
   "codemirror_mode": {
    "name": "ipython",
    "version": 3
   },
   "file_extension": ".py",
   "mimetype": "text/x-python",
   "name": "python",
   "nbconvert_exporter": "python",
   "pygments_lexer": "ipython3",
   "version": "3.6.3"
  },
  "latex_envs": {
   "LaTeX_envs_menu_present": true,
   "autocomplete": true,
   "bibliofile": "biblio.bib",
   "cite_by": "apalike",
   "current_citInitial": 1,
   "eqLabelWithNumbers": true,
   "eqNumInitial": 1,
   "hotkeys": {
    "equation": "Ctrl-E",
    "itemize": "Ctrl-I"
   },
   "labels_anchors": false,
   "latex_user_defs": false,
   "report_style_numbering": false,
   "user_envs_cfg": false
  },
  "toc": {
   "nav_menu": {},
   "number_sections": true,
   "sideBar": true,
   "skip_h1_title": false,
   "toc_cell": false,
   "toc_position": {},
   "toc_section_display": "block",
   "toc_window_display": false
  }
 },
 "nbformat": 4,
 "nbformat_minor": 2
}
